{
 "cells": [
  {
   "cell_type": "code",
   "execution_count": null,
   "id": "74e492c9-a5a1-4381-9e0c-cd93c741be6d",
   "metadata": {},
   "outputs": [],
   "source": [
    "import numpy as np\n",
    "import nibabel as nib\n",
    "def load_from_nii(nii_file):\n",
    "    return nib.load(nii_file).get_fdata()\n",
    "\n",
    "# cortex is an optional import\n",
    "import cortex\n",
    "from cortex import config\n",
    "#from cortex.options import config\n",
    "#config.set('webgl_viewopts', \"specularity\", \"0.0\")\n",
    "#config.set(\"curvature\", \"contrast\", \"0.1\")\n",
    "#config.set('webgl', 'colormaps', \"/user_data/afluo/anaconda3/envs/pycortex2/share/pycortex/colormaps\")\n",
    "\n",
    "#import h5py\n",
    "#import matplotlib.pyplot as plt\n",
    "\n",
    "#import pickle\n",
    "#import os\n",
    "#from scipy.io import loadmat"
   ]
  },
  {
   "cell_type": "code",
   "execution_count": null,
   "id": "ecc7d740-29f5-413b-931b-0d0d74f98ab5",
   "metadata": {},
   "outputs": [],
   "source": [
    "all_subject_rois = dict()\n",
    "nsd_root = '/lab_data/tarrlab/common/datasets/NSD'\n",
    "\n",
    "for subject in [1,2,3,4,5,6,7,8]:\n",
    "    print(\"Processing \", subject)\n",
    "    roi_strings = \"HCP_MMP1.nii.gz\"\n",
    "    raw_path = \"{}/nsddata_betas/ppdata/subj0{}/func1pt8mm/betas_fithrf_GLMdenoise_RR/ncsnr.nii.gz\".format(nsd_root, subject)\n",
    "    raw_data = load_from_nii(raw_path)\n",
    "    \n",
    "    full_path = \"{}/nsddata/ppdata/subj0{}/func1pt8mm/roi/{}\".format(nsd_root, subject, roi_strings)\n",
    "    all_roi = load_from_nii(full_path)\n",
    "    all_rois_long = all_roi.astype(np.int64)\n",
    "    unique_rois = np.unique(all_rois_long)\n",
    "    unique_rois = unique_rois[unique_rois>0.5]\n",
    "\n",
    "    roi_id = []\n",
    "    roi_ncnsr = []\n",
    "\n",
    "    for i in unique_rois:\n",
    "        selected_mask = (all_rois_long==i)\n",
    "        selected_ncnsr = raw_data[selected_mask]\n",
    "        roi_id.append(i)\n",
    "        roi_ncnsr.append(np.nanmean(selected_ncnsr))\n",
    "    \n",
    "    roi_id = np.array(roi_id)\n",
    "    roi_ncnsr = np.array(roi_ncnsr)\n",
    "    sorted_idx = np.argsort(roi_ncnsr)[::-1]\n",
    "    sorted_roi_id = roi_id[sorted_idx]\n",
    "    all_subject_rois[subject] = np.copy(sorted_roi_id[:])\n",
    "\n",
    "    "
   ]
  },
  {
   "cell_type": "code",
   "execution_count": null,
   "id": "14de3d7a-5731-4066-8ee8-37d9e1909483",
   "metadata": {},
   "outputs": [],
   "source": [
    "# Not so good code, should re-write for clarity\n",
    "roi_list = []\n",
    "roi_ranks = []\n",
    "for i in range(1,181):\n",
    "    roi_list.append(i)\n",
    "    roi_ranks.append([])\n",
    "    for subj in [1,2,3,4,5,6,7,8]:\n",
    "        roi_ranks[-1].append(all_subject_rois[subj].tolist().index(i))\n",
    "\n",
    "roi_list = np.array(roi_list)\n",
    "roi_ranks = np.array(roi_ranks)\n",
    "print(roi_ranks)\n",
    "print(roi_ranks.shape)\n",
    "roi_ranks_mean = np.mean(roi_ranks, axis=1)\n",
    "print(roi_ranks_mean.shape)\n",
    "best = np.argsort(roi_ranks_mean)\n",
    "\n",
    "# Change the location depending on where you want to save this.\n",
    "np.save(\"/lab_data/tarrlab/afluo/NSD_zscored/best_HCP.npy\",roi_list[best])\n"
   ]
  }
 ],
 "metadata": {
  "kernelspec": {
   "display_name": "Python 3 (ipykernel)",
   "language": "python",
   "name": "python3"
  },
  "language_info": {
   "codemirror_mode": {
    "name": "ipython",
    "version": 3
   },
   "file_extension": ".py",
   "mimetype": "text/x-python",
   "name": "python",
   "nbconvert_exporter": "python",
   "pygments_lexer": "ipython3",
   "version": "3.9.12"
  }
 },
 "nbformat": 4,
 "nbformat_minor": 5
}
